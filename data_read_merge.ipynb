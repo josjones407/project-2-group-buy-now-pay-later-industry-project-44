{
 "cells": [
  {
   "cell_type": "code",
   "execution_count": 1,
   "id": "e3579f1e",
   "metadata": {},
   "outputs": [],
   "source": [
    "#packages\n",
    "from pyspark.sql import SparkSession\n",
    "import pyspark.sql.functions as f\n",
    "from pyspark.sql.functions import col\n",
    "from pyspark.ml.feature import StringIndexer, OneHotEncoder, VectorAssembler, Imputer\n",
    "import math as m\n",
    "from pyspark.ml.stat import Correlation\n",
    "import numpy as np\n",
    "import pandas as pd"
   ]
  },
  {
   "cell_type": "code",
   "execution_count": 2,
   "id": "d3bffeff",
   "metadata": {},
   "outputs": [
    {
     "name": "stderr",
     "output_type": "stream",
     "text": [
      "WARNING: Using incubator modules: jdk.incubator.vector\n",
      "Using Spark's default log4j profile: org/apache/spark/log4j2-defaults.properties\n",
      "25/09/15 16:46:12 WARN Utils: Your hostname, Lachys-Laptop, resolves to a loopback address: 127.0.1.1; using 10.255.255.254 instead (on interface lo)\n",
      "25/09/15 16:46:12 WARN Utils: Set SPARK_LOCAL_IP if you need to bind to another address\n",
      "Using Spark's default log4j profile: org/apache/spark/log4j2-defaults.properties\n",
      "Setting default log level to \"WARN\".\n",
      "To adjust logging level use sc.setLogLevel(newLevel). For SparkR, use setLogLevel(newLevel).\n",
      "25/09/15 16:46:15 WARN NativeCodeLoader: Unable to load native-hadoop library for your platform... using builtin-java classes where applicable\n"
     ]
    }
   ],
   "source": [
    "# Create a spark session (which will run spark jobs)\n",
    "spark = (\n",
    "    SparkSession.builder.appName(\"Project 1\")\n",
    "    .config(\"spark.sql.repl.eagerEval.enabled\", True) \n",
    "    .config(\"spark.sql.parquet.cacheMetadata\", \"true\")\n",
    "    .config(\"spark.sql.session.timeZone\", \"Etc/UTC\")\n",
    "    .getOrCreate()\n",
    ")"
   ]
  },
  {
   "cell_type": "code",
   "execution_count": 3,
   "id": "46a0de39",
   "metadata": {},
   "outputs": [
    {
     "name": "stderr",
     "output_type": "stream",
     "text": [
      "                                                                                \r"
     ]
    }
   ],
   "source": [
    "#reading in data\\n\n",
    "\n",
    "tbl_merchants_raw = spark.read.parquet('data/tables/merchant_data/tbl_merchants.parquet')\n",
    "consumer_user_details = spark.read.parquet('data/tables/merchant_data/consumer_user_details.parquet')\n",
    "transactions21 = spark.read.parquet('data/tables/transaction_data/transactions_20210228_20210827_snapshot/')\n",
    "transactions2122 = spark.read.parquet('data/tables/transaction_data/transactions_20210828_20220227_snapshot/')\n",
    "transactions22 = spark.read.parquet('data/tables/transaction_data/transactions_20220228_20220828_snapshot/')\n",
    "con_fraud_prob = spark.read.option(\"header\",\"true\").csv('data/tables/merchant_data/consumer_fraud_probability.csv')\n",
    "merch_fraud_prob = spark.read.option(\"header\", \"true\").csv('data/tables/merchant_data/merchant_fraud_probability.csv')\n",
    "\n",
    "tbl_consumer_raw = spark.read.option(\"header\", \"true\").csv('data/tables/merchant_data/tbl_consumer.csv')\n",
    "\n",
    "transactions = transactions21.unionByName(transactions2122)\n",
    "transactions = transactions.unionByName(transactions22)"
   ]
  },
  {
   "cell_type": "code",
   "execution_count": 4,
   "id": "20e96758",
   "metadata": {},
   "outputs": [],
   "source": [
    "#Functions\n",
    "def OHE_variables(data, cat_nom_columns, cat_ord_columns):\n",
    "    \n",
    "    \"\"\"Indexes and encodes categorical features\"\"\"\n",
    "\n",
    "    for c in cat_nom_columns:\n",
    "        indexer = StringIndexer(inputCol=c, outputCol=str(c) + '_index')\n",
    "        \n",
    "        indexed_df = indexer.fit(data).transform(data)\n",
    "        data.drop(c)\n",
    "        encoder = OneHotEncoder(inputCol=str(c)+'_index', outputCol=str(c)+'_OHE')\n",
    "        encoded_df = encoder.fit(indexed_df).transform(indexed_df)\n",
    "        data.drop(str(c)+'_index')\n",
    "\n",
    "    for c in cat_ord_columns:\n",
    "        indexer = StringIndexer(inputCol=c, outputCol=str(c) + '_index')\n",
    "        indexed_df = indexer.fit(data).transform(data)\n",
    "        data.drop(c)\n",
    "        \n",
    "    return data\n",
    "\n",
    "def find_NULL(dfs):\n",
    "    for df in dfs:\n",
    "        condition = f.lit(False)\n",
    "        for col_name in df.columns:\n",
    "            condition = condition | f.col(col_name).isNull()\n",
    "\n",
    "        df.filter(condition).show()\n",
    "    return df.filter(condition).count()\n",
    "\n",
    "def filter_outliers(data, variables):\n",
    "    \n",
    "    \"\"\"filters outliers of continuous data\"\"\"\n",
    "\n",
    "    n=data.count()\n",
    "    for feature in variables:\n",
    "        # Calculate Q1 and Q3\n",
    "        quantiles = data.approxQuantile(feature, [0.25, 0.75], 0.01)\n",
    "        q1, q3 = quantiles\n",
    "        iqr = q3 - q1\n",
    "\n",
    "        #from ADS lecture slides, n>>100\n",
    "        scale = m.sqrt(m.log(n)) - 0.5\n",
    "        if scale<3:\n",
    "            scale=3\n",
    "        lower_bound = q1 - scale * iqr\n",
    "        upper_bound = q3 + scale * iqr\n",
    "        if lower_bound<0:\n",
    "            data = data.filter((col(feature) >= 0) & (col(feature) <= upper_bound))\n",
    "        else:\n",
    "            data = data.filter((col(feature) >= lower_bound) & (col(feature) <= upper_bound))\n",
    "    \n",
    "    return data\n",
    "\n",
    "def corr_func(data, CORR_COLS):\n",
    "\n",
    "    \"\"\"A function to return the correlation matrix of correlation between variables\"\"\"\n",
    "\n",
    "    features = \"correlation_features\"\n",
    "\n",
    "    assembler = VectorAssembler(\n",
    "        inputCols=CORR_COLS, \n",
    "        outputCol=features \n",
    "    )\n",
    "    \n",
    "    feature_vector = assembler.transform(data).select(features)\n",
    "\n",
    "    corr_matrix_dense = Correlation.corr(feature_vector, features)\n",
    "    corr_matrix_dense.collect()\n",
    "    corr_matrix = corr_matrix_dense.collect()[0][0].toArray().tolist()\n",
    "\n",
    "    return corr_matrix"
   ]
  },
  {
   "cell_type": "code",
   "execution_count": 5,
   "id": "17f4183a",
   "metadata": {},
   "outputs": [],
   "source": [
    "#cleaning tags\n",
    "string = \"name|address|state|postcode|gender|consumer_id\"\n",
    "\n",
    "# Clean consumer table\n",
    "tbl_consumer = (\n",
    "    tbl_consumer_raw\n",
    "    .withColumn(\"cust_name\", f.split(col(string), \"\\\\|\").getItem(0))\n",
    "    .withColumn(\"address\", f.split(col(string), \"\\\\|\").getItem(1))\n",
    "    .withColumn(\"state\", f.split(col(string), \"\\\\|\").getItem(2))\n",
    "    .withColumn(\"postcode\", f.split(col(string), \"\\\\|\").getItem(3))\n",
    "    .withColumn(\"gender\", f.split(col(string), \"\\\\|\").getItem(4))\n",
    "    .withColumn(\"consumer_id\", f.split(col(string), \"\\\\|\").getItem(5))\n",
    "    .drop(string)\n",
    ")\n",
    "\n",
    "\n",
    "# Clean merchants table\n",
    "tbl_merchants = (\n",
    "    tbl_merchants_raw\n",
    "    # remove leading (( or [[ and trailing )) or ]]\n",
    "    .withColumn(\n",
    "        \"tags_clean\",\n",
    "        f.regexp_replace(\n",
    "            \"tags\",\n",
    "            r\"^\\(\\(|^\\(\\[|^\\[\\(|^\\[\\[|\\)\\)$|\\]\\)$|\\)\\]$|\\]\\]$\",\n",
    "            \"\"\n",
    "        )\n",
    "    )\n",
    "    # split on `), (` or `], [`\n",
    "    .withColumn(\"tags_array\", f.split(\"tags_clean\", r\"\\)\\s*,\\s*\\(|\\]\\s*,\\s*\\[\"))\n",
    "    # extract each element\n",
    "    .withColumn(\"biz_tags\", f.lower(f.col(\"tags_array\")[0]))\n",
    "    .withColumn(\"rev_band\", f.col(\"tags_array\")[1])\n",
    "    .withColumn(\"take_rate\", f.regexp_extract(f.col(\"tags_array\")[2], r\"take rate:\\s*([0-9.]+)\", 1)\n",
    "    )\n",
    "    .drop(\"tags\", \"tags_clean\", \"tags_array\")\n",
    ")"
   ]
  },
  {
   "cell_type": "code",
   "execution_count": 6,
   "id": "5a82f0f1",
   "metadata": {},
   "outputs": [
    {
     "name": "stderr",
     "output_type": "stream",
     "text": [
      "                                                                                \r"
     ]
    },
    {
     "name": "stdout",
     "output_type": "stream",
     "text": [
      "+------------+-------+------------------+--------------------+--------------+----+--------+--------+---------+\n",
      "|merchant_abn|user_id|      dollar_value|            order_id|order_datetime|name|biz_tags|rev_band|take_rate|\n",
      "+------------+-------+------------------+--------------------+--------------+----+--------+--------+---------+\n",
      "| 29566626791|      8| 74.15732460440282|71a81652-cc91-4bf...|    2021-08-20|NULL|    NULL|    NULL|     NULL|\n",
      "| 32234779638|  18490|107.14809429376949|20149572-a55b-41f...|    2021-08-20|NULL|    NULL|    NULL|     NULL|\n",
      "| 67202032418|     20| 55.46394975814555|a29071b4-29b3-4f2...|    2021-08-20|NULL|    NULL|    NULL|     NULL|\n",
      "| 32461318592|     23| 613.9306657410166|4b2e2154-65d8-44f...|    2021-08-20|NULL|    NULL|    NULL|     NULL|\n",
      "| 32234779638|     25| 87.15685629102919|e6763664-e95f-4eb...|    2021-08-20|NULL|    NULL|    NULL|     NULL|\n",
      "| 23633724513|     26|3459.2423030023524|fee9ead7-9ce2-4a4...|    2021-08-20|NULL|    NULL|    NULL|     NULL|\n",
      "| 87921002735|     32|1450.5989075026375|9ae8b9fe-34c4-432...|    2021-08-20|NULL|    NULL|    NULL|     NULL|\n",
      "| 80788167198|     44|158.88701712957197|360a891b-8271-461...|    2021-08-20|NULL|    NULL|    NULL|     NULL|\n",
      "| 32234779638|  18526| 125.0953784625931|720bfb52-fb76-4cc...|    2021-08-20|NULL|    NULL|    NULL|     NULL|\n",
      "| 27130058170|     48|1020.8064117602456|01c016c5-abbb-4bf...|    2021-08-20|NULL|    NULL|    NULL|     NULL|\n",
      "| 29323795999|     58|134.39374602616718|f1f5f6fe-6b92-4b9...|    2021-08-20|NULL|    NULL|    NULL|     NULL|\n",
      "| 67202032418|  18552| 275.1791373600999|02a4308c-4a49-40b...|    2021-08-20|NULL|    NULL|    NULL|     NULL|\n",
      "| 87802246756|     76| 54.08449721878287|e374d6fb-7a06-45a...|    2021-08-20|NULL|    NULL|    NULL|     NULL|\n",
      "| 29566626791|     77| 48.53264869718864|1f5b59f6-77f3-460...|    2021-08-20|NULL|    NULL|    NULL|     NULL|\n",
      "| 67202032418|     78| 344.9909397642447|04652ffd-79ff-414...|    2021-08-20|NULL|    NULL|    NULL|     NULL|\n",
      "| 79953723663|     98| 70.72951839995908|056d6fab-752f-404...|    2021-08-20|NULL|    NULL|    NULL|     NULL|\n",
      "| 56180588880|    112| 1810.952354187923|474888e4-351f-4b7...|    2021-08-20|NULL|    NULL|    NULL|     NULL|\n",
      "| 29323795999|  18616|16.267692547515654|fbf74564-1fd4-433...|    2021-08-20|NULL|    NULL|    NULL|     NULL|\n",
      "| 32234779638|    147| 192.1781956472948|773cde37-a01e-42f...|    2021-08-20|NULL|    NULL|    NULL|     NULL|\n",
      "| 20562405782|    149|175.84255848580304|e1ecc7b5-8eda-446...|    2021-08-20|NULL|    NULL|    NULL|     NULL|\n",
      "+------------+-------+------------------+--------------------+--------------+----+--------+--------+---------+\n",
      "only showing top 20 rows\n"
     ]
    },
    {
     "name": "stderr",
     "output_type": "stream",
     "text": [
      "                                                                                \r"
     ]
    },
    {
     "data": {
      "text/plain": [
       "580830"
      ]
     },
     "execution_count": 6,
     "metadata": {},
     "output_type": "execute_result"
    }
   ],
   "source": [
    "merchant_transactions=transactions.join(tbl_merchants, on='merchant_abn', how='left')\n",
    "find_NULL([merchant_transactions])"
   ]
  },
  {
   "cell_type": "code",
   "execution_count": 7,
   "id": "9466d4a5",
   "metadata": {},
   "outputs": [],
   "source": [
    "merchant_transactions = merchant_transactions.dropna()"
   ]
  },
  {
   "cell_type": "code",
   "execution_count": 16,
   "id": "383ee497",
   "metadata": {},
   "outputs": [
    {
     "name": "stdout",
     "output_type": "stream",
     "text": [
      "+-----------------------------+\n",
      "|address                      |\n",
      "+-----------------------------+\n",
      "|413 Haney Gardens Apt. 742   |\n",
      "|3764 Amber Oval              |\n",
      "|40693 Henry Greens           |\n",
      "|00653 Davenport Crossroad    |\n",
      "|9271 Michael Manors Suite 651|\n",
      "|2706 Stewart Oval Suite 588  |\n",
      "|122 Brandon Cliff            |\n",
      "|6804 Wright Crest Suite 311  |\n",
      "|5813 Denise Land Suite 690   |\n",
      "|461 Ryan Common Suite 734    |\n",
      "|33983 Kevin Drive Suite 628  |\n",
      "|13706 Kimberly Port          |\n",
      "|0236 Mills Land Suite 203    |\n",
      "|8943 Kenneth Camp            |\n",
      "|60495 Ryan Hill              |\n",
      "|9671 Jacob Harbors Suite 431 |\n",
      "|44353 Nathan Ridge           |\n",
      "|89400 Torres Fort            |\n",
      "|68657 Johnson Glen Suite 266 |\n",
      "|790 Ramos Landing            |\n",
      "+-----------------------------+\n",
      "only showing top 20 rows\n"
     ]
    }
   ],
   "source": [
    "tbl_consumer.select('address').show(truncate=False)"
   ]
  },
  {
   "cell_type": "code",
   "execution_count": 11,
   "id": "b3fb818f",
   "metadata": {},
   "outputs": [
    {
     "name": "stderr",
     "output_type": "stream",
     "text": [
      "                                                                                \r"
     ]
    }
   ],
   "source": [
    "#filter outliers by revenue band\n",
    "\n",
    "n = merchant_transactions.count()\n",
    "# compute the scale factor\n",
    "scale = m.sqrt(m.log(n)) - 0.5\n",
    "stats_by_band = (merchant_transactions.groupby('rev_band')\n",
    "                                      .agg(f.expr(\"percentile_approx(dollar_value, 0.25)\").alias(\"Q1\"),\n",
    "                                           f.expr(\"percentile_approx(dollar_value, 0.75)\").alias(\"Q3\")\n",
    "                ).withColumn(\"IQR\", f.col(\"Q3\") - f.col(\"Q1\"))\n",
    "                 .withColumn(\"lower_bound\", f.col(\"Q1\") - scale * f.col(\"IQR\"))\n",
    "                 .withColumn(\"upper_bound\", f.col(\"Q3\") + scale * f.col(\"IQR\"))\n",
    "                )\n",
    "stats_by_band = stats_by_band.drop('IQR')"
   ]
  },
  {
   "cell_type": "code",
   "execution_count": 12,
   "id": "65492773",
   "metadata": {},
   "outputs": [],
   "source": [
    "merchant_transactions = (\n",
    "    merchant_transactions\n",
    "    .join(stats_by_band, on=\"rev_band\", how=\"left\")\n",
    "    .filter(\n",
    "        (col(\"dollar_value\") >= col(\"lower_bound\")) &\n",
    "        (col(\"dollar_value\") <= col(\"upper_bound\"))\n",
    "    )\n",
    "    .select(merchant_transactions[\"*\"])\n",
    ")"
   ]
  },
  {
   "cell_type": "code",
   "execution_count": 17,
   "id": "d0daad42",
   "metadata": {},
   "outputs": [],
   "source": [
    "merchant_transactions=merchant_transactions.withColumnRenamed('name', 'business')\n",
    "merchant_transactions=merchant_transactions.drop('order_id')"
   ]
  },
  {
   "cell_type": "code",
   "execution_count": 18,
   "id": "6a4696e3",
   "metadata": {},
   "outputs": [
    {
     "name": "stderr",
     "output_type": "stream",
     "text": [
      "                                                                                \r"
     ]
    },
    {
     "data": {
      "text/html": [
       "<table border='1'>\n",
       "<tr><th>merchant_abn</th><th>user_id</th><th>dollar_value</th><th>order_datetime</th><th>business</th><th>biz_tags</th><th>rev_band</th><th>take_rate</th></tr>\n",
       "<tr><td>19249968599</td><td>24</td><td>72.76262499748037</td><td>2021-08-20</td><td>Nunc Pulvinar Ind...</td><td>computer programm...</td><td>d</td><td>1.31</td></tr>\n",
       "<tr><td>42500153308</td><td>18545</td><td>261.96248992726936</td><td>2021-08-20</td><td>Vestibulum Accums...</td><td>digital goods: bo...</td><td>d</td><td>0.62</td></tr>\n",
       "<tr><td>32825608803</td><td>82</td><td>25.374214703723066</td><td>2021-08-20</td><td>Dapibus Quam Quis...</td><td>lawn and garden s...</td><td>d</td><td>1.40</td></tr>\n",
       "<tr><td>73804469952</td><td>18650</td><td>46.2865155495329</td><td>2021-08-20</td><td>Egestas Duis LLP</td><td>digital goods: bo...</td><td>d</td><td>1.17</td></tr>\n",
       "<tr><td>19249968599</td><td>18662</td><td>371.8161422972321</td><td>2021-08-20</td><td>Nunc Pulvinar Ind...</td><td>computer programm...</td><td>d</td><td>1.31</td></tr>\n",
       "<tr><td>32825608803</td><td>18705</td><td>72.26547797242499</td><td>2021-08-20</td><td>Dapibus Quam Quis...</td><td>lawn and garden s...</td><td>d</td><td>1.40</td></tr>\n",
       "<tr><td>62464569593</td><td>18763</td><td>30.404324060534833</td><td>2021-08-20</td><td>Est Ac LLC</td><td>digital goods: bo...</td><td>d</td><td>1.06</td></tr>\n",
       "<tr><td>17523010120</td><td>255</td><td>62.866404914497146</td><td>2021-08-20</td><td>Urna Convallis Fo...</td><td>tent and awning s...</td><td>d</td><td>0.79</td></tr>\n",
       "<tr><td>80982848464</td><td>18777</td><td>9.629774037523674</td><td>2021-08-20</td><td>Tempor Augue Limited</td><td>florists supplies...</td><td>d</td><td>1.05</td></tr>\n",
       "<tr><td>62464569593</td><td>342</td><td>67.73760028341513</td><td>2021-08-20</td><td>Est Ac LLC</td><td>digital goods: bo...</td><td>d</td><td>1.06</td></tr>\n",
       "<tr><td>85502310765</td><td>372</td><td>72.90142468807773</td><td>2021-08-20</td><td>Magnis Dis Partur...</td><td>computer programm...</td><td>d</td><td>0.84</td></tr>\n",
       "<tr><td>42500153308</td><td>18908</td><td>50.885607555354106</td><td>2021-08-20</td><td>Vestibulum Accums...</td><td>digital goods: bo...</td><td>d</td><td>0.62</td></tr>\n",
       "<tr><td>34822634769</td><td>427</td><td>43.747197868214144</td><td>2021-08-20</td><td>Dolor Egestas Rho...</td><td>cable, satellite,...</td><td>d</td><td>0.71</td></tr>\n",
       "<tr><td>62285108846</td><td>449</td><td>109.51092717299107</td><td>2021-08-20</td><td>Dignissim Lacus C...</td><td>gift, card, novel...</td><td>d</td><td>0.59</td></tr>\n",
       "<tr><td>30779952495</td><td>523</td><td>922.3042244531365</td><td>2021-08-20</td><td>Nam Consequat Ins...</td><td>stationery, offic...</td><td>d</td><td>1.29</td></tr>\n",
       "<tr><td>99514198047</td><td>559</td><td>391.7115310299965</td><td>2021-08-20</td><td>Ultricies Digniss...</td><td>computers, comput...</td><td>d</td><td>1.37</td></tr>\n",
       "<tr><td>85502310765</td><td>634</td><td>153.52817890126775</td><td>2021-08-20</td><td>Magnis Dis Partur...</td><td>computer programm...</td><td>d</td><td>0.84</td></tr>\n",
       "<tr><td>43892584139</td><td>19224</td><td>40.589055329991695</td><td>2021-08-20</td><td>Molestie Dapibus ...</td><td>opticians, optica...</td><td>d</td><td>1.27</td></tr>\n",
       "<tr><td>67979471799</td><td>708</td><td>23.341339776357838</td><td>2021-08-20</td><td>Laoreet Ipsum Corp.</td><td>cable, satellite,...</td><td>d</td><td>1.04</td></tr>\n",
       "<tr><td>52323926070</td><td>771</td><td>150.76385046363438</td><td>2021-08-20</td><td>Lorem Ac Risus In...</td><td>computers, comput...</td><td>d</td><td>0.73</td></tr>\n",
       "</table>\n",
       "only showing top 20 rows\n"
      ],
      "text/plain": [
       "+------------+-------+------------------+--------------+--------------------+--------------------+--------+---------+\n",
       "|merchant_abn|user_id|      dollar_value|order_datetime|            business|            biz_tags|rev_band|take_rate|\n",
       "+------------+-------+------------------+--------------+--------------------+--------------------+--------+---------+\n",
       "| 19249968599|     24| 72.76262499748037|    2021-08-20|Nunc Pulvinar Ind...|computer programm...|       d|     1.31|\n",
       "| 42500153308|  18545|261.96248992726936|    2021-08-20|Vestibulum Accums...|digital goods: bo...|       d|     0.62|\n",
       "| 32825608803|     82|25.374214703723066|    2021-08-20|Dapibus Quam Quis...|lawn and garden s...|       d|     1.40|\n",
       "| 73804469952|  18650|  46.2865155495329|    2021-08-20|    Egestas Duis LLP|digital goods: bo...|       d|     1.17|\n",
       "| 19249968599|  18662| 371.8161422972321|    2021-08-20|Nunc Pulvinar Ind...|computer programm...|       d|     1.31|\n",
       "| 32825608803|  18705| 72.26547797242499|    2021-08-20|Dapibus Quam Quis...|lawn and garden s...|       d|     1.40|\n",
       "| 62464569593|  18763|30.404324060534833|    2021-08-20|          Est Ac LLC|digital goods: bo...|       d|     1.06|\n",
       "| 17523010120|    255|62.866404914497146|    2021-08-20|Urna Convallis Fo...|tent and awning s...|       d|     0.79|\n",
       "| 80982848464|  18777| 9.629774037523674|    2021-08-20|Tempor Augue Limited|florists supplies...|       d|     1.05|\n",
       "| 62464569593|    342| 67.73760028341513|    2021-08-20|          Est Ac LLC|digital goods: bo...|       d|     1.06|\n",
       "| 85502310765|    372| 72.90142468807773|    2021-08-20|Magnis Dis Partur...|computer programm...|       d|     0.84|\n",
       "| 42500153308|  18908|50.885607555354106|    2021-08-20|Vestibulum Accums...|digital goods: bo...|       d|     0.62|\n",
       "| 34822634769|    427|43.747197868214144|    2021-08-20|Dolor Egestas Rho...|cable, satellite,...|       d|     0.71|\n",
       "| 62285108846|    449|109.51092717299107|    2021-08-20|Dignissim Lacus C...|gift, card, novel...|       d|     0.59|\n",
       "| 30779952495|    523| 922.3042244531365|    2021-08-20|Nam Consequat Ins...|stationery, offic...|       d|     1.29|\n",
       "| 99514198047|    559| 391.7115310299965|    2021-08-20|Ultricies Digniss...|computers, comput...|       d|     1.37|\n",
       "| 85502310765|    634|153.52817890126775|    2021-08-20|Magnis Dis Partur...|computer programm...|       d|     0.84|\n",
       "| 43892584139|  19224|40.589055329991695|    2021-08-20|Molestie Dapibus ...|opticians, optica...|       d|     1.27|\n",
       "| 67979471799|    708|23.341339776357838|    2021-08-20| Laoreet Ipsum Corp.|cable, satellite,...|       d|     1.04|\n",
       "| 52323926070|    771|150.76385046363438|    2021-08-20|Lorem Ac Risus In...|computers, comput...|       d|     0.73|\n",
       "+------------+-------+------------------+--------------+--------------------+--------------------+--------+---------+\n",
       "only showing top 20 rows"
      ]
     },
     "execution_count": 18,
     "metadata": {},
     "output_type": "execute_result"
    }
   ],
   "source": [
    "merchant_transactions"
   ]
  },
  {
   "cell_type": "code",
   "execution_count": 15,
   "id": "f5680d64",
   "metadata": {},
   "outputs": [
    {
     "name": "stderr",
     "output_type": "stream",
     "text": [
      "                                                                                \r"
     ]
    },
    {
     "data": {
      "text/html": [
       "<table border='1'>\n",
       "<tr><th>cust_name</th><th>address</th><th>state</th><th>postcode</th><th>gender</th><th>consumer_id</th></tr>\n",
       "<tr><td>Yolanda Williams</td><td>413 Haney Gardens...</td><td>WA</td><td>6935</td><td>Female</td><td>1195503</td></tr>\n",
       "<tr><td>Mary Smith</td><td>3764 Amber Oval</td><td>NSW</td><td>2782</td><td>Female</td><td>179208</td></tr>\n",
       "<tr><td>Jill Jones MD</td><td>40693 Henry Greens</td><td>NT</td><td>862</td><td>Female</td><td>1194530</td></tr>\n",
       "<tr><td>Lindsay Jimenez</td><td>00653 Davenport C...</td><td>NSW</td><td>2780</td><td>Female</td><td>154128</td></tr>\n",
       "<tr><td>Rebecca Blanchard</td><td>9271 Michael Mano...</td><td>WA</td><td>6355</td><td>Female</td><td>712975</td></tr>\n",
       "<tr><td>Karen Chapman</td><td>2706 Stewart Oval...</td><td>NSW</td><td>2033</td><td>Female</td><td>407340</td></tr>\n",
       "<tr><td>Andrea Jones</td><td>122 Brandon Cliff</td><td>QLD</td><td>4606</td><td>Female</td><td>511685</td></tr>\n",
       "<tr><td>Stephen Williams</td><td>6804 Wright Crest...</td><td>WA</td><td>6056</td><td>Male</td><td>448088</td></tr>\n",
       "<tr><td>Stephanie Reyes</td><td>5813 Denise Land ...</td><td>NSW</td><td>2482</td><td>Female</td><td>650435</td></tr>\n",
       "<tr><td>Jillian Gonzales</td><td>461 Ryan Common S...</td><td>VIC</td><td>3220</td><td>Female</td><td>1058499</td></tr>\n",
       "<tr><td>Eugene Lucas</td><td>33983 Kevin Drive...</td><td>VIC</td><td>3063</td><td>Undisclosed</td><td>428325</td></tr>\n",
       "<tr><td>Melissa Jones</td><td>13706 Kimberly Port</td><td>WA</td><td>6743</td><td>Female</td><td>1494640</td></tr>\n",
       "<tr><td>Angela Brown PhD</td><td>0236 Mills Land S...</td><td>QLD</td><td>4673</td><td>Female</td><td>1146717</td></tr>\n",
       "<tr><td>Lance Butler</td><td>8943 Kenneth Camp</td><td>VIC</td><td>3332</td><td>Male</td><td>1343547</td></tr>\n",
       "<tr><td>Paul Abbott</td><td>60495 Ryan Hill</td><td>QLD</td><td>4512</td><td>Male</td><td>1463076</td></tr>\n",
       "<tr><td>Tracy Hart</td><td>9671 Jacob Harbor...</td><td>NSW</td><td>2452</td><td>Male</td><td>1356405</td></tr>\n",
       "<tr><td>Alyssa Wilson</td><td>44353 Nathan Ridge</td><td>VIC</td><td>3719</td><td>Female</td><td>1331093</td></tr>\n",
       "<tr><td>Michael Burnett</td><td>89400 Torres Fort</td><td>NSW</td><td>1109</td><td>Male</td><td>80965</td></tr>\n",
       "<tr><td>Victoria Gonzalez</td><td>68657 Johnson Gle...</td><td>TAS</td><td>7276</td><td>Female</td><td>1226530</td></tr>\n",
       "<tr><td>James Norris</td><td>790 Ramos Landing</td><td>VIC</td><td>3234</td><td>Undisclosed</td><td>1390367</td></tr>\n",
       "</table>\n",
       "only showing top 20 rows\n"
      ],
      "text/plain": [
       "+-----------------+--------------------+-----+--------+-----------+-----------+\n",
       "|        cust_name|             address|state|postcode|     gender|consumer_id|\n",
       "+-----------------+--------------------+-----+--------+-----------+-----------+\n",
       "| Yolanda Williams|413 Haney Gardens...|   WA|    6935|     Female|    1195503|\n",
       "|       Mary Smith|     3764 Amber Oval|  NSW|    2782|     Female|     179208|\n",
       "|    Jill Jones MD|  40693 Henry Greens|   NT|     862|     Female|    1194530|\n",
       "|  Lindsay Jimenez|00653 Davenport C...|  NSW|    2780|     Female|     154128|\n",
       "|Rebecca Blanchard|9271 Michael Mano...|   WA|    6355|     Female|     712975|\n",
       "|    Karen Chapman|2706 Stewart Oval...|  NSW|    2033|     Female|     407340|\n",
       "|     Andrea Jones|   122 Brandon Cliff|  QLD|    4606|     Female|     511685|\n",
       "| Stephen Williams|6804 Wright Crest...|   WA|    6056|       Male|     448088|\n",
       "|  Stephanie Reyes|5813 Denise Land ...|  NSW|    2482|     Female|     650435|\n",
       "| Jillian Gonzales|461 Ryan Common S...|  VIC|    3220|     Female|    1058499|\n",
       "|     Eugene Lucas|33983 Kevin Drive...|  VIC|    3063|Undisclosed|     428325|\n",
       "|    Melissa Jones| 13706 Kimberly Port|   WA|    6743|     Female|    1494640|\n",
       "| Angela Brown PhD|0236 Mills Land S...|  QLD|    4673|     Female|    1146717|\n",
       "|     Lance Butler|   8943 Kenneth Camp|  VIC|    3332|       Male|    1343547|\n",
       "|      Paul Abbott|     60495 Ryan Hill|  QLD|    4512|       Male|    1463076|\n",
       "|       Tracy Hart|9671 Jacob Harbor...|  NSW|    2452|       Male|    1356405|\n",
       "|    Alyssa Wilson|  44353 Nathan Ridge|  VIC|    3719|     Female|    1331093|\n",
       "|  Michael Burnett|   89400 Torres Fort|  NSW|    1109|       Male|      80965|\n",
       "|Victoria Gonzalez|68657 Johnson Gle...|  TAS|    7276|     Female|    1226530|\n",
       "|     James Norris|   790 Ramos Landing|  VIC|    3234|Undisclosed|    1390367|\n",
       "+-----------------+--------------------+-----+--------+-----------+-----------+\n",
       "only showing top 20 rows"
      ]
     },
     "execution_count": 15,
     "metadata": {},
     "output_type": "execute_result"
    }
   ],
   "source": [
    "tbl_consumer"
   ]
  },
  {
   "cell_type": "code",
   "execution_count": null,
   "id": "f32c1419",
   "metadata": {},
   "outputs": [],
   "source": [
    "merch_tran_cust=merchant_transactions.join(consumer_user_details, on='user_id', how='left')\n",
    "merch_tran_cust=merch_tran_cust.join(tbl_consumer, on='consumer_id', how='left')\n",
    "merch_tran_cust=merch_tran_cust.drop('consumer_id', 'order_id')"
   ]
  },
  {
   "cell_type": "code",
   "execution_count": null,
   "id": "b5477c5e",
   "metadata": {},
   "outputs": [],
   "source": [
    "mtc_fraud1=merch_tran_cust.join(merch_fraud_prob, on=['merchant_abn', 'order_datetime'], how='left')\n",
    "mtc_fraud1=mtc_fraud1.withColumnRenamed('fraud_probability', 'merch_fraud_prob')\n",
    "mtc_fraud=mtc_fraud1.join(con_fraud_prob, on=['user_id', 'order_datetime'], how='left')\n",
    "mtc_fraud=mtc_fraud.withColumnRenamed('fraud_probability', 'con_fraud_prob')"
   ]
  },
  {
   "cell_type": "code",
   "execution_count": null,
   "id": "afec7622",
   "metadata": {},
   "outputs": [],
   "source": [
    "#mtc_fraud.write.parquet(\"data/curated/joined_dataset\", mode=\"overwrite\")"
   ]
  },
  {
   "cell_type": "code",
   "execution_count": 19,
   "id": "f86ee7c2",
   "metadata": {},
   "outputs": [
    {
     "name": "stderr",
     "output_type": "stream",
     "text": [
      "                                                                                \r"
     ]
    }
   ],
   "source": [
    "merchant_transactions.write.parquet(\"data/curated/merchants_transactions\", mode=\"overwrite\")"
   ]
  }
 ],
 "metadata": {
  "kernelspec": {
   "display_name": ".venv",
   "language": "python",
   "name": "python3"
  },
  "language_info": {
   "codemirror_mode": {
    "name": "ipython",
    "version": 3
   },
   "file_extension": ".py",
   "mimetype": "text/x-python",
   "name": "python",
   "nbconvert_exporter": "python",
   "pygments_lexer": "ipython3",
   "version": "3.12.3"
  }
 },
 "nbformat": 4,
 "nbformat_minor": 5
}
