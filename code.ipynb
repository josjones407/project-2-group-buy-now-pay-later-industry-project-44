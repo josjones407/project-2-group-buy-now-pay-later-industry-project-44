{
 "cells": [
  {
   "cell_type": "code",
   "execution_count": 1,
   "id": "e3579f1e",
   "metadata": {},
   "outputs": [],
   "source": [
    "#packages\n",
    "from pyspark.sql import SparkSession\n",
    "import pyspark.sql.functions as f\n",
    "from pyspark.sql.functions import col\n",
    "from pyspark.ml.feature import StringIndexer, OneHotEncoder, VectorAssembler, Imputer\n",
    "import math as m\n",
    "from pyspark.ml.stat import Correlation\n",
    "import numpy as np\n",
    "import pandas as pd"
   ]
  },
  {
   "cell_type": "code",
   "execution_count": 2,
   "id": "d3bffeff",
   "metadata": {},
   "outputs": [
    {
     "name": "stderr",
     "output_type": "stream",
     "text": [
      "WARNING: Using incubator modules: jdk.incubator.vector\n",
      "Using Spark's default log4j profile: org/apache/spark/log4j2-defaults.properties\n",
      "25/09/08 12:39:37 WARN Utils: Your hostname, Lachys-Laptop, resolves to a loopback address: 127.0.1.1; using 10.255.255.254 instead (on interface lo)\n",
      "25/09/08 12:39:37 WARN Utils: Set SPARK_LOCAL_IP if you need to bind to another address\n",
      "Using Spark's default log4j profile: org/apache/spark/log4j2-defaults.properties\n",
      "Setting default log level to \"WARN\".\n",
      "To adjust logging level use sc.setLogLevel(newLevel). For SparkR, use setLogLevel(newLevel).\n",
      "25/09/08 12:39:39 WARN NativeCodeLoader: Unable to load native-hadoop library for your platform... using builtin-java classes where applicable\n"
     ]
    }
   ],
   "source": [
    "# Create a spark session (which will run spark jobs)\n",
    "spark = (\n",
    "    SparkSession.builder.appName(\"Project 1\")\n",
    "    .config(\"spark.sql.repl.eagerEval.enabled\", True) \n",
    "    .config(\"spark.sql.parquet.cacheMetadata\", \"true\")\n",
    "    .config(\"spark.sql.session.timeZone\", \"Etc/UTC\")\n",
    "    .getOrCreate()\n",
    ")"
   ]
  },
  {
   "cell_type": "code",
   "execution_count": 3,
   "id": "46a0de39",
   "metadata": {},
   "outputs": [
    {
     "name": "stderr",
     "output_type": "stream",
     "text": [
      "                                                                                \r"
     ]
    }
   ],
   "source": [
    "tbl_merchants = spark.read.parquet('data/tables/merchant_data/tbl_merchants.parquet')\n",
    "consumer_user_details = spark.read.parquet('data/tables/merchant_data/consumer_user_details.parquet')\n",
    "transactions21 = spark.read.parquet('data/tables/transaction_data/transactions_20210228_20210827_snapshot/')\n",
    "transactions2122 = spark.read.parquet('data/tables/transaction_data/transactions_20210828_20220227_snapshot/')\n",
    "transactions22 = spark.read.parquet('data/tables/transaction_data/transactions_20220228_20220828_snapshot/')\n",
    "con_fraud_prob = spark.read.csv('data/tables/merchant_data/consumer_fraud_probability.csv')\n",
    "merch_fraud_prob = spark.read.csv('data/tables/merchant_data/merchant_fraud_probability.csv')\n",
    "tbl_con = spark.read.csv('data/tables/merchant_data/tbl_consumer.csv')\n",
    "transactions = transactions21.unionByName(transactions2122)\n",
    "transactions = transactions.unionByName(transactions22)"
   ]
  },
  {
   "cell_type": "code",
   "execution_count": 9,
   "id": "20e96758",
   "metadata": {},
   "outputs": [],
   "source": [
    "#Functions\n",
    "def OHE_variables(data, cat_nom_columns, cat_ord_columns):\n",
    "    \n",
    "    \"\"\"Indexes and encodes categorical features\"\"\"\n",
    "\n",
    "    for c in cat_nom_columns:\n",
    "        indexer = StringIndexer(inputCol=c, outputCol=str(c) + '_index')\n",
    "        \n",
    "        indexed_df = indexer.fit(data).transform(data)\n",
    "        data.drop(c)\n",
    "        encoder = OneHotEncoder(inputCol=str(c)+'_index', outputCol=str(c)+'_OHE')\n",
    "        encoded_df = encoder.fit(indexed_df).transform(indexed_df)\n",
    "        data.drop(str(c)+'_index')\n",
    "\n",
    "    for c in cat_ord_columns:\n",
    "        indexer = StringIndexer(inputCol=c, outputCol=str(c) + '_index')\n",
    "        indexed_df = indexer.fit(data).transform(data)\n",
    "        data.drop(c)\n",
    "        \n",
    "    return data\n",
    "\n",
    "def find_NULL(dfs):\n",
    "    for df in dfs:\n",
    "        condition = f.lit(False)\n",
    "        for col_name in df.columns:\n",
    "            condition = condition | f.col(col_name).isNull()\n",
    "\n",
    "        df.filter(condition).show()\n",
    "    return 0\n",
    "\n",
    "def filter_outliers(data, variables):\n",
    "    \n",
    "    \"\"\"filters outliers of continuous data\"\"\"\n",
    "\n",
    "    n=data.count()\n",
    "    for feature in variables:\n",
    "        # Calculate Q1 and Q3\n",
    "        quantiles = data.approxQuantile(feature, [0.25, 0.75], 0.01)\n",
    "        q1, q3 = quantiles\n",
    "        iqr = q3 - q1\n",
    "\n",
    "        #from ADS lecture slides, n>>100\n",
    "        scale = m.sqrt(m.log(n)) - 0.5\n",
    "        if scale<3:\n",
    "            scale=3\n",
    "        lower_bound = q1 - scale * iqr\n",
    "        upper_bound = q3 + scale * iqr\n",
    "        if lower_bound<0:\n",
    "            data = data.filter((col(feature) >= 0) & (col(feature) <= upper_bound))\n",
    "        else:\n",
    "            data = data.filter((col(feature) >= lower_bound) & (col(feature) <= upper_bound))\n",
    "    \n",
    "    return data\n",
    "\n",
    "def corr_func(data, CORR_COLS):\n",
    "\n",
    "    \"\"\"A function to return the correlation matrix of correlation between variables\"\"\"\n",
    "\n",
    "    features = \"correlation_features\"\n",
    "\n",
    "    assembler = VectorAssembler(\n",
    "        inputCols=CORR_COLS, \n",
    "        outputCol=features \n",
    "    )\n",
    "    \n",
    "    feature_vector = assembler.transform(data).select(features)\n",
    "\n",
    "    corr_matrix_dense = Correlation.corr(feature_vector, features)\n",
    "    corr_matrix_dense.collect()\n",
    "    corr_matrix = corr_matrix_dense.collect()[0][0].toArray().tolist()\n",
    "\n",
    "    return corr_matrix"
   ]
  },
  {
   "cell_type": "code",
   "execution_count": 5,
   "id": "383ee497",
   "metadata": {},
   "outputs": [
    {
     "name": "stdout",
     "output_type": "stream",
     "text": [
      "+-----------------------------------------------------------------------------------------------------------------+\n",
      "|tags                                                                                                             |\n",
      "+-----------------------------------------------------------------------------------------------------------------+\n",
      "|((furniture, home furnishings and equipment shops, and manufacturers, except appliances), (e), (take rate: 0.18))|\n",
      "|([cable, satellite, and otHer pay television and radio services], [b], [take rate: 4.22])                        |\n",
      "|([jewelry, watch, clock, and silverware shops], [b], [take rate: 4.40])                                          |\n",
      "|([wAtch, clock, and jewelry repair shops], [b], [take rate: 3.29])                                               |\n",
      "|([music shops - musical instruments, pianos, and sheet music], [a], [take rate: 6.33])                           |\n",
      "|[(gift, card, novelty, and souvenir shops), (a), (take rate: 6.34)]                                              |\n",
      "|[(computers, comPUter peripheral equipment, and softwAre), (b), (take rate: 4.32)]                               |\n",
      "|[[watch, clock, and jewelry repair shops], [c], [take rate: 2.39]]                                               |\n",
      "|([computer programming , data processing, and integrated systems design services], [a], [take rate: 5.71])       |\n",
      "|[(furniture, home furnishings and equipment shopS, and manufacturers, except appliances), (a), (take rate: 6.61)]|\n",
      "|([computers, computer peripheral equipment, and software], [a], [take rate: 6.34])                               |\n",
      "|((equipment, tool, furniture, and appliance  rent al and leAsing), (b), (take rate: 3.57))                       |\n",
      "|([music shops - musical instruments, pianos, and sheet music], [b], [take rate: 3.63])                           |\n",
      "|[[artist supply and craft  shops], [b], [take rate: 3.17]]                                                       |\n",
      "|([florists supplies, nursery stock, and flowers], [a], [take rate: 6.61])                                        |\n",
      "|([computers, computer peripheral  equipment, and software], [a], [take rate: 5.54])                              |\n",
      "|[[antique shops - sales, repairs, and restoration serVices], [a], [take rate: 6.93]]                             |\n",
      "|[[motor vehicle supplies and new parts], [b], [take rate: 4.97]]                                                 |\n",
      "|[(moTor vehicle supplies and new parts), (a), (take rate: 5.77)]                                                 |\n",
      "|([gift, card, novelty, and souvenir shops], [c], [take rate: 2.95])                                              |\n",
      "+-----------------------------------------------------------------------------------------------------------------+\n",
      "only showing top 20 rows\n"
     ]
    }
   ],
   "source": [
    "tbl_merchants.select('tags').show(truncate=False)"
   ]
  },
  {
   "cell_type": "code",
   "execution_count": 7,
   "id": "3531c2b4",
   "metadata": {},
   "outputs": [
    {
     "data": {
      "text/html": [
       "<table border='1'>\n",
       "<tr><th>name</th><th>tags</th><th>merchant_abn</th></tr>\n",
       "<tr><td>Felis Limited</td><td>((furniture, home...</td><td>10023283211</td></tr>\n",
       "<tr><td>Arcu Ac Orci Corp...</td><td>([cable, satellit...</td><td>10142254217</td></tr>\n",
       "<tr><td>Nunc Sed Company</td><td>([jewelry, watch,...</td><td>10165489824</td></tr>\n",
       "<tr><td>Ultricies Digniss...</td><td>([wAtch, clock, a...</td><td>10187291046</td></tr>\n",
       "<tr><td>Enim Condimentum PC</td><td>([music shops - m...</td><td>10192359162</td></tr>\n",
       "<tr><td>Fusce Company</td><td>[(gift, card, nov...</td><td>10206519221</td></tr>\n",
       "<tr><td>Aliquam Enim Inco...</td><td>[(computers, comP...</td><td>10255988167</td></tr>\n",
       "<tr><td>Ipsum Primis Ltd</td><td>[[watch, clock, a...</td><td>10264435225</td></tr>\n",
       "<tr><td>Pede Ultrices Ind...</td><td>([computer progra...</td><td>10279061213</td></tr>\n",
       "<tr><td>Nunc Inc.</td><td>[(furniture, home...</td><td>10323485998</td></tr>\n",
       "<tr><td>Facilisis Facilis...</td><td>([computers, comp...</td><td>10342410215</td></tr>\n",
       "<tr><td>Odio Institute</td><td>((equipment, tool...</td><td>10346855916</td></tr>\n",
       "<tr><td>Rutrum Justo Ltd</td><td>([music shops - m...</td><td>10364012396</td></tr>\n",
       "<tr><td>Tellus Foundation</td><td>[[artist supply a...</td><td>10385011947</td></tr>\n",
       "<tr><td>Sed Et Company</td><td>([florists suppli...</td><td>10385163239</td></tr>\n",
       "<tr><td>Id Ltd</td><td>([computers, comp...</td><td>10385250025</td></tr>\n",
       "<tr><td>Consequat Foundation</td><td>[[antique shops -...</td><td>10404542215</td></tr>\n",
       "<tr><td>Sit Amet Nulla Corp.</td><td>[[motor vehicle s...</td><td>10430380319</td></tr>\n",
       "<tr><td>Massa Vestibulum ...</td><td>[(moTor vehicle s...</td><td>10441711491</td></tr>\n",
       "<tr><td>Ut Consulting</td><td>([gift, card, nov...</td><td>10462560289</td></tr>\n",
       "</table>\n",
       "only showing top 20 rows\n"
      ],
      "text/plain": [
       "+--------------------+--------------------+------------+\n",
       "|                name|                tags|merchant_abn|\n",
       "+--------------------+--------------------+------------+\n",
       "|       Felis Limited|((furniture, home...| 10023283211|\n",
       "|Arcu Ac Orci Corp...|([cable, satellit...| 10142254217|\n",
       "|    Nunc Sed Company|([jewelry, watch,...| 10165489824|\n",
       "|Ultricies Digniss...|([wAtch, clock, a...| 10187291046|\n",
       "| Enim Condimentum PC|([music shops - m...| 10192359162|\n",
       "|       Fusce Company|[(gift, card, nov...| 10206519221|\n",
       "|Aliquam Enim Inco...|[(computers, comP...| 10255988167|\n",
       "|    Ipsum Primis Ltd|[[watch, clock, a...| 10264435225|\n",
       "|Pede Ultrices Ind...|([computer progra...| 10279061213|\n",
       "|           Nunc Inc.|[(furniture, home...| 10323485998|\n",
       "|Facilisis Facilis...|([computers, comp...| 10342410215|\n",
       "|      Odio Institute|((equipment, tool...| 10346855916|\n",
       "|    Rutrum Justo Ltd|([music shops - m...| 10364012396|\n",
       "|   Tellus Foundation|[[artist supply a...| 10385011947|\n",
       "|      Sed Et Company|([florists suppli...| 10385163239|\n",
       "|              Id Ltd|([computers, comp...| 10385250025|\n",
       "|Consequat Foundation|[[antique shops -...| 10404542215|\n",
       "|Sit Amet Nulla Corp.|[[motor vehicle s...| 10430380319|\n",
       "|Massa Vestibulum ...|[(moTor vehicle s...| 10441711491|\n",
       "|       Ut Consulting|([gift, card, nov...| 10462560289|\n",
       "+--------------------+--------------------+------------+\n",
       "only showing top 20 rows"
      ]
     },
     "execution_count": 7,
     "metadata": {},
     "output_type": "execute_result"
    }
   ],
   "source": [
    "tbl_merchants"
   ]
  },
  {
   "cell_type": "code",
   "execution_count": 6,
   "id": "660357d9",
   "metadata": {},
   "outputs": [
    {
     "data": {
      "text/html": [
       "<table border='1'>\n",
       "<tr><th>user_id</th><th>merchant_abn</th><th>dollar_value</th><th>order_id</th><th>order_datetime</th></tr>\n",
       "<tr><td>18478</td><td>62191208634</td><td>63.255848959735246</td><td>949a63c8-29f7-4ab...</td><td>2021-08-20</td></tr>\n",
       "<tr><td>2</td><td>15549624934</td><td>130.3505283105634</td><td>6a84c3cf-612a-457...</td><td>2021-08-20</td></tr>\n",
       "<tr><td>18479</td><td>64403598239</td><td>120.15860593212783</td><td>b10dcc33-e53f-425...</td><td>2021-08-20</td></tr>\n",
       "<tr><td>3</td><td>60956456424</td><td>136.6785200286976</td><td>0f09c5a5-784e-447...</td><td>2021-08-20</td></tr>\n",
       "<tr><td>18479</td><td>94493496784</td><td>72.96316578355305</td><td>f6c78c1a-4600-4c5...</td><td>2021-08-20</td></tr>\n",
       "<tr><td>3</td><td>76819856970</td><td>448.529684285612</td><td>5ace6a24-cdf0-4aa...</td><td>2021-08-20</td></tr>\n",
       "<tr><td>18479</td><td>67609108741</td><td>86.4040605836911</td><td>d0e180f0-cb06-42a...</td><td>2021-08-20</td></tr>\n",
       "<tr><td>3</td><td>34096466752</td><td>301.5793450525113</td><td>6fb1ff48-24bb-4f9...</td><td>2021-08-20</td></tr>\n",
       "<tr><td>18482</td><td>70501974849</td><td>68.75486276223054</td><td>8505fb33-b69a-412...</td><td>2021-08-20</td></tr>\n",
       "<tr><td>4</td><td>49891706470</td><td>48.89796461900801</td><td>ed11e477-b09f-4ae...</td><td>2021-08-20</td></tr>\n",
       "<tr><td>18482</td><td>46804135891</td><td>6.6168976971833615</td><td>05b5edb5-b925-414...</td><td>2021-08-20</td></tr>\n",
       "<tr><td>7</td><td>33064796871</td><td>373.0873675184212</td><td>fe188788-b89f-4dd...</td><td>2021-08-20</td></tr>\n",
       "<tr><td>18483</td><td>44160392990</td><td>83.98473054761176</td><td>7c44302d-98b3-48b...</td><td>2021-08-20</td></tr>\n",
       "<tr><td>7</td><td>68435002949</td><td>232.5364986739752</td><td>b4a89891-a113-45e...</td><td>2021-08-20</td></tr>\n",
       "<tr><td>18484</td><td>70033549200</td><td>871.7678061729196</td><td>4b1d941a-21a1-43e...</td><td>2021-08-20</td></tr>\n",
       "<tr><td>7</td><td>41944909975</td><td>30.910755230234322</td><td>302ae628-8eba-4a5...</td><td>2021-08-20</td></tr>\n",
       "<tr><td>18485</td><td>41705715409</td><td>309.5417224575787</td><td>67f4f98e-3149-4e8...</td><td>2021-08-20</td></tr>\n",
       "<tr><td>8</td><td>29566626791</td><td>74.15732460440282</td><td>71a81652-cc91-4bf...</td><td>2021-08-20</td></tr>\n",
       "<tr><td>18487</td><td>32361057556</td><td>119.19055863068847</td><td>15577921-1104-470...</td><td>2021-08-20</td></tr>\n",
       "<tr><td>9</td><td>47663262928</td><td>36.69873283148887</td><td>c4fcb49a-ce87-4e1...</td><td>2021-08-20</td></tr>\n",
       "</table>\n",
       "only showing top 20 rows\n"
      ],
      "text/plain": [
       "+-------+------------+------------------+--------------------+--------------+\n",
       "|user_id|merchant_abn|      dollar_value|            order_id|order_datetime|\n",
       "+-------+------------+------------------+--------------------+--------------+\n",
       "|  18478| 62191208634|63.255848959735246|949a63c8-29f7-4ab...|    2021-08-20|\n",
       "|      2| 15549624934| 130.3505283105634|6a84c3cf-612a-457...|    2021-08-20|\n",
       "|  18479| 64403598239|120.15860593212783|b10dcc33-e53f-425...|    2021-08-20|\n",
       "|      3| 60956456424| 136.6785200286976|0f09c5a5-784e-447...|    2021-08-20|\n",
       "|  18479| 94493496784| 72.96316578355305|f6c78c1a-4600-4c5...|    2021-08-20|\n",
       "|      3| 76819856970|  448.529684285612|5ace6a24-cdf0-4aa...|    2021-08-20|\n",
       "|  18479| 67609108741|  86.4040605836911|d0e180f0-cb06-42a...|    2021-08-20|\n",
       "|      3| 34096466752| 301.5793450525113|6fb1ff48-24bb-4f9...|    2021-08-20|\n",
       "|  18482| 70501974849| 68.75486276223054|8505fb33-b69a-412...|    2021-08-20|\n",
       "|      4| 49891706470| 48.89796461900801|ed11e477-b09f-4ae...|    2021-08-20|\n",
       "|  18482| 46804135891|6.6168976971833615|05b5edb5-b925-414...|    2021-08-20|\n",
       "|      7| 33064796871| 373.0873675184212|fe188788-b89f-4dd...|    2021-08-20|\n",
       "|  18483| 44160392990| 83.98473054761176|7c44302d-98b3-48b...|    2021-08-20|\n",
       "|      7| 68435002949| 232.5364986739752|b4a89891-a113-45e...|    2021-08-20|\n",
       "|  18484| 70033549200| 871.7678061729196|4b1d941a-21a1-43e...|    2021-08-20|\n",
       "|      7| 41944909975|30.910755230234322|302ae628-8eba-4a5...|    2021-08-20|\n",
       "|  18485| 41705715409| 309.5417224575787|67f4f98e-3149-4e8...|    2021-08-20|\n",
       "|      8| 29566626791| 74.15732460440282|71a81652-cc91-4bf...|    2021-08-20|\n",
       "|  18487| 32361057556|119.19055863068847|15577921-1104-470...|    2021-08-20|\n",
       "|      9| 47663262928| 36.69873283148887|c4fcb49a-ce87-4e1...|    2021-08-20|\n",
       "+-------+------------+------------------+--------------------+--------------+\n",
       "only showing top 20 rows"
      ]
     },
     "execution_count": 6,
     "metadata": {},
     "output_type": "execute_result"
    }
   ],
   "source": [
    "transactions"
   ]
  },
  {
   "cell_type": "code",
   "execution_count": 11,
   "id": "0a11a722",
   "metadata": {},
   "outputs": [
    {
     "name": "stderr",
     "output_type": "stream",
     "text": [
      "                                                                                \r"
     ]
    },
    {
     "name": "stdout",
     "output_type": "stream",
     "text": [
      "+-------+------------+------------+--------+--------------+\n",
      "|user_id|merchant_abn|dollar_value|order_id|order_datetime|\n",
      "+-------+------------+------------+--------+--------------+\n",
      "+-------+------------+------------+--------+--------------+\n",
      "\n",
      "+----+----+------------+\n",
      "|name|tags|merchant_abn|\n",
      "+----+----+------------+\n",
      "+----+----+------------+\n",
      "\n",
      "+---+\n",
      "|_c0|\n",
      "+---+\n",
      "+---+\n",
      "\n",
      "+-------+-----------+\n",
      "|user_id|consumer_id|\n",
      "+-------+-----------+\n",
      "+-------+-----------+\n",
      "\n"
     ]
    },
    {
     "data": {
      "text/plain": [
       "0"
      ]
     },
     "execution_count": 11,
     "metadata": {},
     "output_type": "execute_result"
    }
   ],
   "source": [
    "find_NULL([transactions, tbl_merchants, tbl_con, consumer_user_details])"
   ]
  },
  {
   "cell_type": "code",
   "execution_count": 13,
   "id": "19758755",
   "metadata": {},
   "outputs": [
    {
     "data": {
      "text/html": [
       "<table border='1'>\n",
       "<tr><th>user_id</th><th>merchant_abn</th><th>dollar_value</th><th>order_id</th><th>order_datetime</th></tr>\n",
       "<tr><td>14935</td><td>79417999332</td><td>136.06570809815838</td><td>23acbb7b-cf98-458...</td><td>2021-11-26</td></tr>\n",
       "<tr><td>1</td><td>46451548968</td><td>72.61581642788431</td><td>76bab304-fa2d-400...</td><td>2021-11-26</td></tr>\n",
       "<tr><td>14936</td><td>89518629617</td><td>3.0783487174439297</td><td>a2ae446a-2959-41c...</td><td>2021-11-26</td></tr>\n",
       "<tr><td>1</td><td>49167531725</td><td>51.58228625503599</td><td>7080c274-17f7-4cc...</td><td>2021-11-26</td></tr>\n",
       "<tr><td>14936</td><td>31101120643</td><td>25.228114942417797</td><td>8e301c0f-06ab-45c...</td><td>2021-11-26</td></tr>\n",
       "<tr><td>2</td><td>67978471888</td><td>691.5028234458998</td><td>0380e9ad-b0e8-420...</td><td>2021-11-26</td></tr>\n",
       "<tr><td>14936</td><td>60956456424</td><td>102.13952056640888</td><td>5ac3da9c-5147-452...</td><td>2021-11-26</td></tr>\n",
       "<tr><td>2</td><td>47644196714</td><td>644.5220654863093</td><td>4e368e44-86f8-4de...</td><td>2021-11-26</td></tr>\n",
       "<tr><td>14938</td><td>39649557865</td><td>209.12780951421405</td><td>4d78cd01-4bab-494...</td><td>2021-11-26</td></tr>\n",
       "<tr><td>3</td><td>88402174457</td><td>141.0387993699113</td><td>c50c957d-ecfc-430...</td><td>2021-11-26</td></tr>\n",
       "<tr><td>14938</td><td>32234779638</td><td>102.04090324888061</td><td>e94ff357-b036-493...</td><td>2021-11-26</td></tr>\n",
       "<tr><td>4</td><td>24015173965</td><td>157.0</td><td>5b867ac9-d1e0-430...</td><td>2021-11-26</td></tr>\n",
       "<tr><td>14939</td><td>79830510987</td><td>246.13590152514766</td><td>666909ed-79c2-45b...</td><td>2021-11-26</td></tr>\n",
       "<tr><td>5</td><td>76646764782</td><td>35.463129852951695</td><td>0c855413-67fa-467...</td><td>2021-11-26</td></tr>\n",
       "<tr><td>14939</td><td>17324645993</td><td>24.108258533478818</td><td>40fd2f7f-a274-420...</td><td>2021-11-26</td></tr>\n",
       "<tr><td>5</td><td>71041015148</td><td>89.76800577775657</td><td>93255de9-c8fe-426...</td><td>2021-11-26</td></tr>\n",
       "<tr><td>14939</td><td>75089928159</td><td>14.806519329659501</td><td>2c5ba1f3-1c5a-4e5...</td><td>2021-11-26</td></tr>\n",
       "<tr><td>5</td><td>80324045558</td><td>62.79195913018835</td><td>564f81c8-c3c1-4f4...</td><td>2021-11-26</td></tr>\n",
       "<tr><td>14939</td><td>50315283629</td><td>575.3321071340728</td><td>026c6d3d-4f7c-4f4...</td><td>2021-11-26</td></tr>\n",
       "<tr><td>6</td><td>11566786699</td><td>15.856637357709419</td><td>0230e104-aef0-48f...</td><td>2021-11-26</td></tr>\n",
       "</table>\n",
       "only showing top 20 rows\n"
      ],
      "text/plain": [
       "+-------+------------+------------------+--------------------+--------------+\n",
       "|user_id|merchant_abn|      dollar_value|            order_id|order_datetime|\n",
       "+-------+------------+------------------+--------------------+--------------+\n",
       "|  14935| 79417999332|136.06570809815838|23acbb7b-cf98-458...|    2021-11-26|\n",
       "|      1| 46451548968| 72.61581642788431|76bab304-fa2d-400...|    2021-11-26|\n",
       "|  14936| 89518629617|3.0783487174439297|a2ae446a-2959-41c...|    2021-11-26|\n",
       "|      1| 49167531725| 51.58228625503599|7080c274-17f7-4cc...|    2021-11-26|\n",
       "|  14936| 31101120643|25.228114942417797|8e301c0f-06ab-45c...|    2021-11-26|\n",
       "|      2| 67978471888| 691.5028234458998|0380e9ad-b0e8-420...|    2021-11-26|\n",
       "|  14936| 60956456424|102.13952056640888|5ac3da9c-5147-452...|    2021-11-26|\n",
       "|      2| 47644196714| 644.5220654863093|4e368e44-86f8-4de...|    2021-11-26|\n",
       "|  14938| 39649557865|209.12780951421405|4d78cd01-4bab-494...|    2021-11-26|\n",
       "|      3| 88402174457| 141.0387993699113|c50c957d-ecfc-430...|    2021-11-26|\n",
       "|  14938| 32234779638|102.04090324888061|e94ff357-b036-493...|    2021-11-26|\n",
       "|      4| 24015173965|             157.0|5b867ac9-d1e0-430...|    2021-11-26|\n",
       "|  14939| 79830510987|246.13590152514766|666909ed-79c2-45b...|    2021-11-26|\n",
       "|      5| 76646764782|35.463129852951695|0c855413-67fa-467...|    2021-11-26|\n",
       "|  14939| 17324645993|24.108258533478818|40fd2f7f-a274-420...|    2021-11-26|\n",
       "|      5| 71041015148| 89.76800577775657|93255de9-c8fe-426...|    2021-11-26|\n",
       "|  14939| 75089928159|14.806519329659501|2c5ba1f3-1c5a-4e5...|    2021-11-26|\n",
       "|      5| 80324045558| 62.79195913018835|564f81c8-c3c1-4f4...|    2021-11-26|\n",
       "|  14939| 50315283629| 575.3321071340728|026c6d3d-4f7c-4f4...|    2021-11-26|\n",
       "|      6| 11566786699|15.856637357709419|0230e104-aef0-48f...|    2021-11-26|\n",
       "+-------+------------+------------------+--------------------+--------------+\n",
       "only showing top 20 rows"
      ]
     },
     "execution_count": 13,
     "metadata": {},
     "output_type": "execute_result"
    }
   ],
   "source": [
    "transactions2122"
   ]
  },
  {
   "cell_type": "code",
   "execution_count": 14,
   "id": "0b248733",
   "metadata": {},
   "outputs": [
    {
     "data": {
      "text/html": [
       "<table border='1'>\n",
       "<tr><th>user_id</th><th>merchant_abn</th><th>dollar_value</th><th>order_id</th><th>order_datetime</th></tr>\n",
       "<tr><td>11139</td><td>96152467973</td><td>16.213590228273233</td><td>785b0080-9e4b-471...</td><td>2022-08-20</td></tr>\n",
       "<tr><td>1</td><td>98973094975</td><td>86.97955945703498</td><td>2560f7b0-ee5d-4b3...</td><td>2022-08-20</td></tr>\n",
       "<tr><td>11139</td><td>56762458844</td><td>31.513502323509194</td><td>0311717b-8b5b-410...</td><td>2022-08-20</td></tr>\n",
       "<tr><td>1</td><td>89502033586</td><td>124.18468694868491</td><td>f8891626-f098-45b...</td><td>2022-08-20</td></tr>\n",
       "<tr><td>11139</td><td>96161808980</td><td>61.620445567668966</td><td>d90a421f-f1da-4bf...</td><td>2022-08-20</td></tr>\n",
       "<tr><td>2</td><td>72472909171</td><td>32.26524985312485</td><td>523e0403-b677-450...</td><td>2022-08-20</td></tr>\n",
       "<tr><td>11139</td><td>91923722701</td><td>11.331586767322225</td><td>f45a842b-0366-41d...</td><td>2022-08-20</td></tr>\n",
       "<tr><td>3</td><td>46380096952</td><td>119.80011239189334</td><td>58d0f423-037c-43f...</td><td>2022-08-20</td></tr>\n",
       "<tr><td>11140</td><td>79283124876</td><td>198.13027742225435</td><td>60b12d41-41d6-4c1...</td><td>2022-08-20</td></tr>\n",
       "<tr><td>4</td><td>67202032418</td><td>206.20865323560022</td><td>64a05a23-a078-481...</td><td>2022-08-20</td></tr>\n",
       "<tr><td>11140</td><td>72673996108</td><td>82.44500432461442</td><td>c2d463cb-3481-4d3...</td><td>2022-08-20</td></tr>\n",
       "<tr><td>5</td><td>85556646149</td><td>324.66955798522173</td><td>461bebeb-d7a4-4af...</td><td>2022-08-20</td></tr>\n",
       "<tr><td>11141</td><td>49891706470</td><td>39.35105988443739</td><td>7f3a2c66-a479-409...</td><td>2022-08-20</td></tr>\n",
       "<tr><td>6</td><td>61242800720</td><td>29.238746305393224</td><td>4afb8cbb-6a3b-4f4...</td><td>2022-08-20</td></tr>\n",
       "<tr><td>11141</td><td>86578477987</td><td>68.45470123518632</td><td>39749f02-2687-4bf...</td><td>2022-08-20</td></tr>\n",
       "<tr><td>6</td><td>85502310765</td><td>115.96055046552485</td><td>4fb8d931-4da0-43b...</td><td>2022-08-20</td></tr>\n",
       "<tr><td>11142</td><td>90173050473</td><td>63.47415980715575</td><td>add785dc-e302-497...</td><td>2022-08-20</td></tr>\n",
       "<tr><td>7</td><td>92681936901</td><td>217.2372943457977</td><td>fdaaa57d-b2ef-438...</td><td>2022-08-20</td></tr>\n",
       "<tr><td>11143</td><td>60956456424</td><td>37.99353258229883</td><td>4f96b8f8-8ee8-496...</td><td>2022-08-20</td></tr>\n",
       "<tr><td>8</td><td>85529538986</td><td>911.8091035442362</td><td>c2d2a03a-bd82-432...</td><td>2022-08-20</td></tr>\n",
       "</table>\n",
       "only showing top 20 rows\n"
      ],
      "text/plain": [
       "+-------+------------+------------------+--------------------+--------------+\n",
       "|user_id|merchant_abn|      dollar_value|            order_id|order_datetime|\n",
       "+-------+------------+------------------+--------------------+--------------+\n",
       "|  11139| 96152467973|16.213590228273233|785b0080-9e4b-471...|    2022-08-20|\n",
       "|      1| 98973094975| 86.97955945703498|2560f7b0-ee5d-4b3...|    2022-08-20|\n",
       "|  11139| 56762458844|31.513502323509194|0311717b-8b5b-410...|    2022-08-20|\n",
       "|      1| 89502033586|124.18468694868491|f8891626-f098-45b...|    2022-08-20|\n",
       "|  11139| 96161808980|61.620445567668966|d90a421f-f1da-4bf...|    2022-08-20|\n",
       "|      2| 72472909171| 32.26524985312485|523e0403-b677-450...|    2022-08-20|\n",
       "|  11139| 91923722701|11.331586767322225|f45a842b-0366-41d...|    2022-08-20|\n",
       "|      3| 46380096952|119.80011239189334|58d0f423-037c-43f...|    2022-08-20|\n",
       "|  11140| 79283124876|198.13027742225435|60b12d41-41d6-4c1...|    2022-08-20|\n",
       "|      4| 67202032418|206.20865323560022|64a05a23-a078-481...|    2022-08-20|\n",
       "|  11140| 72673996108| 82.44500432461442|c2d463cb-3481-4d3...|    2022-08-20|\n",
       "|      5| 85556646149|324.66955798522173|461bebeb-d7a4-4af...|    2022-08-20|\n",
       "|  11141| 49891706470| 39.35105988443739|7f3a2c66-a479-409...|    2022-08-20|\n",
       "|      6| 61242800720|29.238746305393224|4afb8cbb-6a3b-4f4...|    2022-08-20|\n",
       "|  11141| 86578477987| 68.45470123518632|39749f02-2687-4bf...|    2022-08-20|\n",
       "|      6| 85502310765|115.96055046552485|4fb8d931-4da0-43b...|    2022-08-20|\n",
       "|  11142| 90173050473| 63.47415980715575|add785dc-e302-497...|    2022-08-20|\n",
       "|      7| 92681936901| 217.2372943457977|fdaaa57d-b2ef-438...|    2022-08-20|\n",
       "|  11143| 60956456424| 37.99353258229883|4f96b8f8-8ee8-496...|    2022-08-20|\n",
       "|      8| 85529538986| 911.8091035442362|c2d2a03a-bd82-432...|    2022-08-20|\n",
       "+-------+------------+------------------+--------------------+--------------+\n",
       "only showing top 20 rows"
      ]
     },
     "execution_count": 14,
     "metadata": {},
     "output_type": "execute_result"
    }
   ],
   "source": [
    "transactions22"
   ]
  }
 ],
 "metadata": {
  "kernelspec": {
   "display_name": ".venv",
   "language": "python",
   "name": "python3"
  },
  "language_info": {
   "codemirror_mode": {
    "name": "ipython",
    "version": 3
   },
   "file_extension": ".py",
   "mimetype": "text/x-python",
   "name": "python",
   "nbconvert_exporter": "python",
   "pygments_lexer": "ipython3",
   "version": "3.12.3"
  }
 },
 "nbformat": 4,
 "nbformat_minor": 5
}
